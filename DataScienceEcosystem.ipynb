{
 "cells": [
  {
   "cell_type": "markdown",
   "id": "5aab8ec4",
   "metadata": {},
   "source": [
    "# Data Science Tools and Ecosystem"
   ]
  },
  {
   "cell_type": "markdown",
   "id": "0180c7a7",
   "metadata": {},
   "source": [
    "### Introduction"
   ]
  },
  {
   "cell_type": "markdown",
   "id": "5f0c8666",
   "metadata": {},
   "source": [
    "\n",
    "In this notebook, Data Science Tools and Ecosystem are summarized."
   ]
  },
  {
   "cell_type": "markdown",
   "id": "458dfee1",
   "metadata": {},
   "source": [
    "### Objectives"
   ]
  },
  {
   "cell_type": "markdown",
   "id": "5601946d",
   "metadata": {},
   "source": [
    "- List popular languages for Data Science\n",
    "- Data Science Tools \n",
    "- Arithematic Operators"
   ]
  },
  {
   "cell_type": "markdown",
   "id": "c96e08b0",
   "metadata": {},
   "source": [
    "### Data Science Languages"
   ]
  },
  {
   "cell_type": "markdown",
   "id": "c9025ba3",
   "metadata": {},
   "source": [
    "1. Python\n",
    "2. R\n",
    "3. Scala\n"
   ]
  },
  {
   "cell_type": "markdown",
   "id": "8758bb3b",
   "metadata": {},
   "source": [
    "### Data Science Tools"
   ]
  },
  {
   "cell_type": "markdown",
   "id": "a930e3c1",
   "metadata": {},
   "source": [
    "Data Science Tools:\n",
    "\n",
    "1. Python(Numpy,Pandas,Matplotlib)\n",
    "2. R(ggplot,caret,dplyr)\n",
    "3. Git,Github"
   ]
  },
  {
   "cell_type": "markdown",
   "id": "d5187f0a",
   "metadata": {},
   "source": [
    "### Data Science Libraries"
   ]
  },
  {
   "cell_type": "markdown",
   "id": "7dbf5b41",
   "metadata": {},
   "source": [
    "Some of the commonly used libraries used by Data Scientists include:\n",
    "\n",
    "1. Numpy\n",
    "2. Pandas\n",
    "3. Sckit Learn"
   ]
  },
  {
   "cell_type": "markdown",
   "id": "ae6beebe",
   "metadata": {},
   "source": [
    "### Arithematic Expression Examples"
   ]
  },
  {
   "cell_type": "markdown",
   "id": "bb5baba9",
   "metadata": {},
   "source": [
    "Below are a few examples of evaluating arithmetic expressions in Python\n",
    "\n",
    "1. addition (+)\n",
    "2. Multiplication(*)\n",
    "3. Subtraction(-)"
   ]
  },
  {
   "cell_type": "code",
   "execution_count": 5,
   "id": "0ee49318",
   "metadata": {},
   "outputs": [
    {
     "data": {
      "text/plain": [
       "17"
      ]
     },
     "execution_count": 5,
     "metadata": {},
     "output_type": "execute_result"
    }
   ],
   "source": [
    "# This a simple arithmetic expression to mutiply then add integers\n",
    "x=(3*4)+5\n",
    "x"
   ]
  },
  {
   "cell_type": "code",
   "execution_count": 12,
   "id": "15eae928",
   "metadata": {},
   "outputs": [
    {
     "data": {
      "text/plain": [
       "3.3333333333333335"
      ]
     },
     "execution_count": 12,
     "metadata": {},
     "output_type": "execute_result"
    }
   ],
   "source": [
    "# This will convert 200 minutes to hours by diving by 60\n",
    "y =200\n",
    "z=y/60\n",
    "z"
   ]
  },
  {
   "cell_type": "markdown",
   "id": "b7ed1014",
   "metadata": {},
   "source": [
    "### Author:\n"
   ]
  },
  {
   "cell_type": "markdown",
   "id": "ba91c14e",
   "metadata": {},
   "source": [
    "Adnan Shakir"
   ]
  },
  {
   "cell_type": "code",
   "execution_count": null,
   "id": "7569a255",
   "metadata": {},
   "outputs": [],
   "source": []
  },
  {
   "cell_type": "code",
   "execution_count": null,
   "id": "ecfc72c6",
   "metadata": {},
   "outputs": [],
   "source": []
  },
  {
   "cell_type": "code",
   "execution_count": null,
   "id": "4c20a0a5",
   "metadata": {},
   "outputs": [],
   "source": []
  },
  {
   "cell_type": "code",
   "execution_count": null,
   "id": "cdec8ce6",
   "metadata": {},
   "outputs": [],
   "source": []
  },
  {
   "cell_type": "code",
   "execution_count": null,
   "id": "d56539d7",
   "metadata": {},
   "outputs": [],
   "source": []
  }
 ],
 "metadata": {
  "kernelspec": {
   "display_name": "Python 3 (ipykernel)",
   "language": "python",
   "name": "python3"
  },
  "language_info": {
   "codemirror_mode": {
    "name": "ipython",
    "version": 3
   },
   "file_extension": ".py",
   "mimetype": "text/x-python",
   "name": "python",
   "nbconvert_exporter": "python",
   "pygments_lexer": "ipython3",
   "version": "3.9.12"
  }
 },
 "nbformat": 4,
 "nbformat_minor": 5
}
